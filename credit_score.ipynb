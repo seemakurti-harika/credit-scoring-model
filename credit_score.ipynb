{
  "nbformat": 4,
  "nbformat_minor": 0,
  "metadata": {
    "colab": {
      "provenance": []
    },
    "kernelspec": {
      "name": "python3",
      "display_name": "Python 3"
    },
    "language_info": {
      "name": "python"
    }
  },
  "cells": [
    {
      "cell_type": "code",
      "source": [
        "import pandas as pd\n",
        "import numpy as np\n",
        "import matplotlib.pyplot as plt\n"
      ],
      "metadata": {
        "id": "B9RGYA8o8xnX"
      },
      "execution_count": 1,
      "outputs": []
    },
    {
      "cell_type": "code",
      "source": [
        "# Set random seed for reproducibility\n",
        "np.random.seed(42)\n"
      ],
      "metadata": {
        "id": "NqLolIkJ875n"
      },
      "execution_count": 2,
      "outputs": []
    },
    {
      "cell_type": "code",
      "source": [
        "# Load dataset\n",
        "try:\n",
        "    df = pd.read_csv('/content/bankloans.csv')\n",
        "    print('Dataset loaded successfully.')\n",
        "except FileNotFoundError:\n",
        "    print('Error: bankloans.csv not found. Please upload to /content/ in Colab.')\n",
        "    raise"
      ],
      "metadata": {
        "colab": {
          "base_uri": "https://localhost:8080/"
        },
        "id": "0f9apcSu9FmC",
        "outputId": "26cd91c5-16d0-486a-a8b5-4324c44a2a99"
      },
      "execution_count": 3,
      "outputs": [
        {
          "output_type": "stream",
          "name": "stdout",
          "text": [
            "Dataset loaded successfully.\n"
          ]
        }
      ]
    },
    {
      "cell_type": "code",
      "source": [
        "\n",
        "# Check missing values\n",
        "print('\\nMissing Values:')\n",
        "print(df.isnull().sum())"
      ],
      "metadata": {
        "colab": {
          "base_uri": "https://localhost:8080/"
        },
        "id": "C46hpgLd9SWj",
        "outputId": "be4dad69-8ef1-4242-eee0-37dbb709aa31"
      },
      "execution_count": 4,
      "outputs": [
        {
          "output_type": "stream",
          "name": "stdout",
          "text": [
            "\n",
            "Missing Values:\n",
            "age           0\n",
            "ed            0\n",
            "employ        0\n",
            "address       0\n",
            "income        0\n",
            "debtinc       0\n",
            "creddebt      0\n",
            "othdebt       0\n",
            "default     450\n",
            "dtype: int64\n"
          ]
        }
      ]
    },
    {
      "cell_type": "code",
      "source": [
        "# Handle missing values (drop rows)\n",
        "df = df.dropna()\n",
        "print(f'\\nDataset size after dropping missing values: {df.shape}')\n"
      ],
      "metadata": {
        "colab": {
          "base_uri": "https://localhost:8080/"
        },
        "id": "JhSpEU1h9Uq0",
        "outputId": "c9c878a5-ba4a-4763-b3c4-de635035489d"
      },
      "execution_count": 5,
      "outputs": [
        {
          "output_type": "stream",
          "name": "stdout",
          "text": [
            "\n",
            "Dataset size after dropping missing values: (700, 9)\n"
          ]
        }
      ]
    },
    {
      "cell_type": "code",
      "source": [
        "# Feature engineering\n",
        "df['debt_income_interaction'] = df['income'] * df['debtinc']\n",
        "df['high_debt_ratio'] = (df['debtinc'] > 10).astype(int)"
      ],
      "metadata": {
        "id": "3PsfAJYV9Zn8"
      },
      "execution_count": 7,
      "outputs": []
    },
    {
      "cell_type": "code",
      "source": [
        "# Convert target to classical labels\n",
        "df['creditworthiness'] = df['default'].map({0: 'Good', 1: 'Poor'})\n",
        "print('\\nFirst 5 rows with engineered features and labels:')\n",
        "print(df.head())"
      ],
      "metadata": {
        "colab": {
          "base_uri": "https://localhost:8080/"
        },
        "id": "Sd4nCvE-9fBL",
        "outputId": "90b2e203-28bb-4c5b-b39f-b02277e44842"
      },
      "execution_count": 8,
      "outputs": [
        {
          "output_type": "stream",
          "name": "stdout",
          "text": [
            "\n",
            "First 5 rows with engineered features and labels:\n",
            "   age  ed  employ  address  income  debtinc   creddebt   othdebt  default  \\\n",
            "0   41   3      17       12     176      9.3  11.359392  5.008608      1.0   \n",
            "1   27   1      10        6      31     17.3   1.362202  4.000798      0.0   \n",
            "2   40   1      15       14      55      5.5   0.856075  2.168925      0.0   \n",
            "3   41   1      15       14     120      2.9   2.658720  0.821280      0.0   \n",
            "4   24   2       2        0      28     17.3   1.787436  3.056564      1.0   \n",
            "\n",
            "   debt_income_interaction  high_debt_ratio creditworthiness  \n",
            "0                   1636.8                0             Poor  \n",
            "1                    536.3                1             Good  \n",
            "2                    302.5                0             Good  \n",
            "3                    348.0                0             Good  \n",
            "4                    484.4                1             Poor  \n"
          ]
        }
      ]
    },
    {
      "cell_type": "code",
      "source": [
        "# Define features and target\n",
        "features = ['age', 'ed', 'employ', 'address', 'income', 'debtinc', 'creddebt', 'othdebt',\n",
        "            'debt_income_interaction', 'high_debt_ratio']\n",
        "X = df[features].values\n",
        "y = df['default'].values  # Use numeric target for modeling\n"
      ],
      "metadata": {
        "id": "_rywpvLs9mZI"
      },
      "execution_count": 9,
      "outputs": []
    },
    {
      "cell_type": "code",
      "source": [
        "# Split data (80-20)\n",
        "n = len(X)\n",
        "indices = np.arange(n)\n",
        "np.random.shuffle(indices)\n",
        "train_size = int(0.8 * n)\n",
        "X_train, X_test = X[indices[:train_size]], X[indices[train_size:]]\n",
        "y_train, y_test = y[indices[:train_size]], y[indices[train_size:]]\n",
        "print(f'\\nTraining set size: {X_train.shape}, Test set size: {X_test.shape}')\n"
      ],
      "metadata": {
        "colab": {
          "base_uri": "https://localhost:8080/"
        },
        "id": "_kr0TYFh9shd",
        "outputId": "217b8577-b4fe-4f06-8116-f7418a059baf"
      },
      "execution_count": 10,
      "outputs": [
        {
          "output_type": "stream",
          "name": "stdout",
          "text": [
            "\n",
            "Training set size: (560, 10), Test set size: (140, 10)\n"
          ]
        }
      ]
    },
    {
      "cell_type": "code",
      "source": [
        "# Standardize features\n",
        "mean = np.mean(X_train, axis=0)\n",
        "std = np.std(X_train, axis=0)\n",
        "std[std == 0] = 1  # Avoid division by zero\n",
        "X_train_scaled = (X_train - mean) / std\n",
        "X_test_scaled = (X_test - mean) / std"
      ],
      "metadata": {
        "id": "-Ro8J9AM90X7"
      },
      "execution_count": 11,
      "outputs": []
    },
    {
      "cell_type": "code",
      "source": [
        "# Visualize distribution of creditworthiness\n",
        "plt.figure(figsize=(6, 4))\n",
        "df['creditworthiness'].value_counts().plot(kind='bar', color=['green', 'red'])\n",
        "plt.title('Distribution of Creditworthiness')\n",
        "plt.xlabel('Creditworthiness')\n",
        "plt.ylabel('Count')\n",
        "plt.xticks(rotation=0)\n",
        "plt.show()\n",
        "\n",
        "# Display class distribution\n",
        "print('\\nCreditworthiness Distribution:')\n",
        "print(df['creditworthiness'].value_counts(normalize=True))"
      ],
      "metadata": {
        "colab": {
          "base_uri": "https://localhost:8080/",
          "height": 514
        },
        "id": "-UedvauvQ005",
        "outputId": "2fca108e-44d1-4b34-87ab-90d3b6d4aba3"
      },
      "execution_count": 12,
      "outputs": [
        {
          "output_type": "display_data",
          "data": {
            "text/plain": [
              "<Figure size 600x400 with 1 Axes>"
            ],
            "image/png": "[encoded data removed]"
          },
          "metadata": {}
        },
        {
          "output_type": "stream",
          "name": "stdout",
          "text": [
            "\n",
            "Creditworthiness Distribution:\n",
            "creditworthiness\n",
            "Good    0.738571\n",
            "Poor    0.261429\n",
            "Name: proportion, dtype: float64\n"
          ]
        }
      ]
    },
    {
      "cell_type": "code",
      "source": [
        "# Logistic Regression\n",
        "def sigmoid(z):\n",
        "    return 1 / (1 + np.exp(-np.clip(z, -500, 500)))\n",
        "\n",
        "def logistic_regression_fit(X, y, lr=0.01, epochs=1000):\n",
        "    n_samples, n_features = X.shape\n",
        "    weights = np.zeros(n_features)\n",
        "    bias = 0\n",
        "    for _ in range(epochs):\n",
        "        linear_model = np.dot(X, weights) + bias\n",
        "        y_pred = sigmoid(linear_model)\n",
        "        dw = (1 / n_samples) * np.dot(X.T, (y_pred - y))\n",
        "        db = (1 / n_samples) * np.sum(y_pred - y)\n",
        "        weights -= lr * dw\n",
        "        bias -= lr * db\n",
        "    return weights, bias\n",
        "\n",
        "def logistic_regression_predict(X, weights, bias):\n",
        "    return (sigmoid(np.dot(X, weights) + bias) >= 0.5).astype(int)\n",
        "\n",
        "def logistic_regression_proba(X, weights, bias):\n",
        "    return sigmoid(np.dot(X, weights) + bias)\n"
      ],
      "metadata": {
        "id": "64pyqR_XRBw_"
      },
      "execution_count": 15,
      "outputs": []
    },
    {
      "cell_type": "code",
      "source": [
        "\n",
        "# Decision Tree\n",
        "def gini_impurity(y):\n",
        "    _, counts = np.unique(y, return_counts=True)\n",
        "    probs = counts / len(y)\n",
        "    return 1 - np.sum(probs ** 2)\n",
        "\n",
        "def decision_tree_split(X, y):\n",
        "    best_split = {'feature': None, 'threshold': None, 'gini': 1, 'left_X': None, 'left_y': None, 'right_X': None, 'right_y': None}\n",
        "    n_features = X.shape[1]\n",
        "\n",
        "    for feature in range(n_features):\n",
        "        thresholds = np.unique(X[:, feature])\n",
        "        for threshold in thresholds:\n",
        "            left_mask = X[:, feature] <= threshold\n",
        "            right_mask = ~left_mask\n",
        "            if sum(left_mask) == 0 or sum(right_mask) == 0:\n",
        "                continue\n",
        "            gini_left = gini_impurity(y[left_mask])\n",
        "            gini_right = gini_impurity(y[right_mask])\n",
        "            gini = (sum(left_mask) * gini_left + sum(right_mask) * gini_right) / len(y)\n",
        "            if gini < best_split['gini']:\n",
        "                best_split = {\n",
        "                    'feature': feature, 'threshold': threshold, 'gini': gini,\n",
        "                    'left_X': X[left_mask], 'left_y': y[left_mask],\n",
        "                    'right_X': X[right_mask], 'right_y': y[right_mask]\n",
        "                }\n",
        "    return best_split\n",
        "\n",
        "def decision_tree_fit(X, y, max_depth=3, depth=0):\n",
        "    if depth >= max_depth or len(np.unique(y)) == 1:\n",
        "        return {'class': np.bincount(y).argmax()}\n",
        "    split = decision_tree_split(X, y)\n",
        "    if split['feature'] is None:\n",
        "        return {'class': np.bincount(y).argmax()}\n",
        "    left_tree = decision_tree_fit(split['left_X'], split['left_y'], max_depth, depth + 1)\n",
        "    right_tree = decision_tree_fit(split['right_X'], split['right_y'], max_depth, depth + 1)\n",
        "    return {'feature': split['feature'], 'threshold': split['threshold'], 'left': left_tree, 'right': right_tree}\n",
        "\n",
        "def decision_tree_predict(X, tree):\n",
        "    predictions = np.zeros(len(X))\n",
        "    for i in range(len(X)):\n",
        "        node = tree\n",
        "        while 'class' not in node:\n",
        "            if X[i, node['feature']] <= node['threshold']:\n",
        "                node = node['left']\n",
        "            else:\n",
        "                node = node['right']\n",
        "        predictions[i] = node['class']\n",
        "    return predictions.astype(int)\n"
      ],
      "metadata": {
        "id": "icKzyLTW-E0q"
      },
      "execution_count": 13,
      "outputs": []
    },
    {
      "cell_type": "code",
      "source": [
        "# Random Forest\n",
        "def random_forest_fit(X, y, n_trees=10, max_depth=3, sample_ratio=0.8):\n",
        "    trees = []\n",
        "    n_samples = len(X)\n",
        "    sample_size = int(sample_ratio * n_samples)\n",
        "    for _ in range(n_trees):\n",
        "        indices = np.random.choice(n_samples, sample_size, replace=True)\n",
        "        X_sample, y_sample = X[indices], y[indices]\n",
        "        tree = decision_tree_fit(X_sample, y_sample, max_depth)\n",
        "        trees.append(tree)\n",
        "    return trees\n",
        "\n",
        "def random_forest_predict(X, trees):\n",
        "    predictions = np.array([decision_tree_predict(X, tree) for tree in trees])\n",
        "    return np.apply_along_axis(lambda x: np.bincount(x).argmax(), axis=0, arr=predictions)"
      ],
      "metadata": {
        "id": "I-ho_j_f-Oqf"
      },
      "execution_count": 14,
      "outputs": []
    },
    {
      "cell_type": "code",
      "source": [
        "def compute_metrics(y_true, y_pred, y_prob=None):\n",
        "    tp = np.sum((y_true == 1) & (y_pred == 1))\n",
        "    fp = np.sum((y_true == 0) & (y_pred == 1))\n",
        "    fn = np.sum((y_true == 1) & (y_pred == 0))\n",
        "    tn = np.sum((y_true == 0) & (y_pred == 0))\n",
        "\n",
        "    precision = tp / (tp + fp) if (tp + fp) > 0 else 0\n",
        "    recall = tp / (tp + fn) if (tp + fn) > 0 else 0\n",
        "    f1 = 2 * (precision * recall) / (precision + recall) if (precision + recall) > 0 else 0\n",
        "\n",
        "    roc_auc = 0\n",
        "    fpr = []\n",
        "    tpr = []\n",
        "    if y_prob is not None:\n",
        "        sorted_indices = np.argsort(y_prob)[::-1]\n",
        "        y_true_sorted = y_true[sorted_indices]\n",
        "        thresholds = y_prob[sorted_indices]\n",
        "        tpr, fpr = [], []\n",
        "        pos = np.sum(y_true == 1)\n",
        "        neg = np.sum(y_true == 0)\n",
        "        tp_count, fp_count = 0, 0\n",
        "        for i in range(len(y_true)):\n",
        "            if i > 0 and thresholds[i] != thresholds[i-1]:\n",
        "                tpr.append(tp_count / pos if pos > 0 else 0)\n",
        "                fpr.append(fp_count / neg if neg > 0 else 0)\n",
        "            if y_true_sorted[i] == 1:\n",
        "                tp_count += 1\n",
        "            else:\n",
        "                fp_count += 1\n",
        "        tpr.append(tp_count / pos if pos > 0 else 0)\n",
        "        fpr.append(fp_count / neg if neg > 0 else 0)\n",
        "        roc_auc = np.trapz(tpr, fpr)\n",
        "\n",
        "    return precision, recall, f1, roc_auc, fpr, tpr"
      ],
      "metadata": {
        "id": "AuZyI7kBTvIt"
      },
      "execution_count": 24,
      "outputs": []
    },
    {
      "cell_type": "code",
      "source": [
        "# Plot ROC curve for best model (if Logistic Regression)\n",
        "if best_model_name == 'Logistic Regression' and best_fpr is not None:\n",
        "    plt.figure(figsize=(8, 6))\n",
        "    plt.plot(best_fpr, best_tpr, label=f'{best_model_name} (AUC = {best_roc_auc:.2f})')\n",
        "    plt.plot([0, 1], [0, 1], 'k--')\n",
        "    plt.xlabel('False Positive Rate')\n",
        "    plt.ylabel('True Positive Rate')\n",
        "    plt.title('ROC Curve for Best Model')\n",
        "    plt.legend()\n",
        "    plt.show()\n",
        "elif best_model_name in ['Decision Tree', 'Random Forest'] and best_fpr and best_tpr:\n",
        "    plt.figure(figsize=(8, 6))\n",
        "    plt.plot(best_fpr, best_tpr, label=f'{best_model_name} (AUC = {best_roc_auc:.2f})')\n",
        "    plt.plot([0, 1], [0, 1], 'k--')\n",
        "    plt.xlabel('False Positive Rate')\n",
        "    plt.ylabel('True Positive Rate')\n",
        "    plt.title('ROC Curve for Best Model')\n",
        "    plt.legend()\n",
        "    plt.show()\n",
        "else:\n",
        "    print(f\"ROC curve cannot be plotted for the best model ({best_model_name}) as it's not Logistic Regression or ROC AUC data is not available.\")"
      ],
      "metadata": {
        "colab": {
          "base_uri": "https://localhost:8080/",
          "height": 564
        },
        "id": "miPA-gfsUdbI",
        "outputId": "56ddd47a-a5b1-4dbc-f166-13ff11fe5688"
      },
      "execution_count": 19,
      "outputs": [
        {
          "output_type": "display_data",
          "data": {
            "text/plain": [
              "<Figure size 800x600 with 1 Axes>"
            ],
            "image/png": "[encoded data removed]"
          },
          "metadata": {}
        }
      ]
    },
    {
      "cell_type": "code",
      "metadata": {
        "colab": {
          "base_uri": "https://localhost:8080/"
        },
        "id": "6ba02e34",
        "outputId": "52603692-d4b8-4add-afe7-518e77aff60a"
      },
      "source": [
        "# Train and evaluate models\n",
        "results = {}\n",
        "best_roc_auc = 0\n",
        "best_model = None\n",
        "best_model_name = None\n",
        "best_params = None\n",
        "best_fpr = None\n",
        "best_tpr = None\n",
        "\n",
        "# Logistic Regression with hyperparameter tuning\n",
        "lr_params = [(0.01, 1000), (0.001, 2000)]\n",
        "for lr, epochs in lr_params:\n",
        "    weights, bias = logistic_regression_fit(X_train_scaled, y_train, lr=lr, epochs=epochs)\n",
        "    y_pred = logistic_regression_predict(X_test_scaled, weights, bias)\n",
        "    y_prob = logistic_regression_proba(X_test_scaled, weights, bias)\n",
        "    precision, recall, f1, roc_auc, fpr, tpr = compute_metrics(y_test, y_pred, y_prob)\n",
        "    results[f'Logistic Regression (lr={lr}, epochs={epochs})'] = {'Precision': precision, 'Recall': recall, 'F1-Score': f1, 'ROC-AUC': roc_auc}\n",
        "    if roc_auc > best_roc_auc:\n",
        "        best_roc_auc = roc_auc\n",
        "        best_model = (weights, bias)\n",
        "        best_model_name = 'Logistic Regression'\n",
        "        best_params = (lr, epochs)\n",
        "        best_fpr = fpr\n",
        "        best_tpr = tpr\n",
        "\n",
        "# Convert y_train and y_test to integer type for tree-based models\n",
        "y_train_int = y_train.astype(int)\n",
        "y_test_int = y_test.astype(int)\n",
        "\n",
        "# Decision Tree with hyperparameter tuning\n",
        "dt_params = [2, 3, 5] # max_depth\n",
        "for max_depth in dt_params:\n",
        "    tree = decision_tree_fit(X_train_scaled, y_train_int, max_depth=max_depth)\n",
        "    y_pred = decision_tree_predict(X_test_scaled, tree)\n",
        "    precision, recall, f1, roc_auc, fpr, tpr = compute_metrics(y_test_int, y_pred) # ROC AUC not directly available for DT\n",
        "    results[f'Decision Tree (max_depth={max_depth})'] = {'Precision': precision, 'Recall': recall, 'F1-Score': f1, 'ROC-AUC': roc_auc if roc_auc != 0 else 'N/A'} # Handle cases where ROC AUC is 0 or not applicable\n",
        "    if roc_auc > best_roc_auc:\n",
        "        best_roc_auc = roc_auc\n",
        "        best_model = tree\n",
        "        best_model_name = 'Decision Tree'\n",
        "        best_params = (max_depth,)\n",
        "        best_fpr = fpr # FPR and TPR will be empty lists if ROC AUC is N/A or 0\n",
        "        best_tpr = tpr\n",
        "\n",
        "# Random Forest with hyperparameter tuning\n",
        "rf_params = [(10, 3, 0.8), (20, 5, 0.7)] # n_trees, max_depth, sample_ratio\n",
        "for n_trees, max_depth, sample_ratio in rf_params:\n",
        "    forest = random_forest_fit(X_train_scaled, y_train_int, n_trees=n_trees, max_depth=max_depth, sample_ratio=sample_ratio)\n",
        "    y_pred = random_forest_predict(X_test_scaled, forest)\n",
        "    precision, recall, f1, roc_auc, fpr, tpr = compute_metrics(y_test_int, y_pred) # ROC AUC not directly available for RF\n",
        "    results[f'Random Forest (n_trees={n_trees}, max_depth={max_depth}, sample_ratio={sample_ratio})'] = {'Precision': precision, 'Recall': recall, 'F1-Score': f1, 'ROC-AUC': roc_auc if roc_auc != 0 else 'N/A'}\n",
        "    if roc_auc > best_roc_auc:\n",
        "        best_roc_auc = roc_auc\n",
        "        best_model = forest\n",
        "        best_model_name = 'Random Forest'\n",
        "        best_params = (n_trees, max_depth, sample_ratio)\n",
        "        best_fpr = fpr # FPR and TPR will be empty lists if ROC AUC is N/A or 0\n",
        "        best_tpr = tpr\n",
        "\n",
        "# Print results\n",
        "print('\\nModel Evaluation Results:')\n",
        "for model, metrics in results.items():\n",
        "    print(f'{model}:')\n",
        "    for metric, value in metrics.items():\n",
        "        print(f'  {metric}: {value:.4f}' if isinstance(value, (int, float)) else f'  {metric}: {value}')\n",
        "\n",
        "print(f'\\nBest Model: {best_model_name} with parameters {best_params} (ROC AUC: {best_roc_auc:.4f})')"
      ],
      "execution_count": 25,
      "outputs": [
        {
          "output_type": "stream",
          "name": "stderr",
          "text": [
            "/tmp/ipython-input-24-4166197765.py:32: DeprecationWarning: `trapz` is deprecated. Use `trapezoid` instead, or one of the numerical integration functions in `scipy.integrate`.\n",
            "  roc_auc = np.trapz(tpr, fpr)\n"
          ]
        },
        {
          "output_type": "stream",
          "name": "stdout",
          "text": [
            "\n",
            "Model Evaluation Results:\n",
            "Logistic Regression (lr=0.01, epochs=1000):\n",
            "  Precision: 0.7500\n",
            "  Recall: 0.4737\n",
            "  F1-Score: 0.5806\n",
            "  ROC-AUC: 0.8687\n",
            "Logistic Regression (lr=0.001, epochs=2000):\n",
            "  Precision: 0.6667\n",
            "  Recall: 0.6316\n",
            "  F1-Score: 0.6486\n",
            "  ROC-AUC: 0.8540\n",
            "Decision Tree (max_depth=2):\n",
            "  Precision: 0.5417\n",
            "  Recall: 0.3421\n",
            "  F1-Score: 0.4194\n",
            "  ROC-AUC: N/A\n",
            "Decision Tree (max_depth=3):\n",
            "  Precision: 0.5714\n",
            "  Recall: 0.4211\n",
            "  F1-Score: 0.4848\n",
            "  ROC-AUC: N/A\n",
            "Decision Tree (max_depth=5):\n",
            "  Precision: 0.6176\n",
            "  Recall: 0.5526\n",
            "  F1-Score: 0.5833\n",
            "  ROC-AUC: N/A\n",
            "Random Forest (n_trees=10, max_depth=3, sample_ratio=0.8):\n",
            "  Precision: 0.5806\n",
            "  Recall: 0.4737\n",
            "  F1-Score: 0.5217\n",
            "  ROC-AUC: N/A\n",
            "Random Forest (n_trees=20, max_depth=5, sample_ratio=0.7):\n",
            "  Precision: 0.6452\n",
            "  Recall: 0.5263\n",
            "  F1-Score: 0.5797\n",
            "  ROC-AUC: N/A\n",
            "\n",
            "Best Model: Logistic Regression with parameters (0.01, 1000) (ROC AUC: 0.8687)\n"
          ]
        }
      ]
    },
    {
      "cell_type": "code",
      "source": [
        "def get_user_input():\n",
        "    print('\\nEnter the following feature values for creditworthiness prediction:')\n",
        "    features = {}\n",
        "\n",
        "    try:\n",
        "        features['age'] = float(input('Age (e.g., 20-60): '))\n",
        "        if not 18 <= features['age'] <= 100:\n",
        "            raise ValueError('Age must be between 18 and 100.')\n",
        "\n",
        "        features['ed'] = float(input('Education level (1=High School, 2=Some College, 3=College, 4=Master’s, 5=PhD): '))\n",
        "        if features['ed'] not in [1, 2, 3, 4, 5]:\n",
        "            raise ValueError('Education must be between 1 and 5.')\n",
        "\n",
        "        features['employ'] = float(input('Years employed (e.g., 0-30): '))\n",
        "        if features['employ'] < 0:\n",
        "            raise ValueError('Years employed cannot be negative.')\n",
        "\n",
        "        features['address'] = float(input('Years at current address (e.g., 0-30): '))\n",
        "        if features['address'] < 0:\n",
        "            raise ValueError('Years at address cannot be negative.')\n",
        "\n",
        "        features['income'] = float(input('Annual income in thousands (e.g., 10-500): '))\n",
        "        if features['income'] < 0:\n",
        "            raise ValueError('Income cannot be negative.')\n",
        "\n",
        "        features['debtinc'] = float(input('Debt-to-income ratio (e.g., 0.1-50): '))\n",
        "        if features['debtinc'] < 0:\n",
        "            raise ValueError('Debt-to-income ratio cannot be negative.')\n",
        "\n",
        "        features['creddebt'] = float(input('Credit debt in thousands (e.g., 0-20): '))\n",
        "        if features['creddebt'] < 0:\n",
        "            raise ValueError('Credit debt cannot be negative.')\n",
        "\n",
        "        features['othdebt'] = float(input('Other debt in thousands (e.g., 0-20): '))\n",
        "        if features['othdebt'] < 0:\n",
        "            raise ValueError('Other debt cannot be negative.')\n",
        "\n",
        "        # Compute engineered features\n",
        "        features['debt_income_interaction'] = features['income'] * features['debtinc']\n",
        "        features['high_debt_ratio'] = 1 if features['debtinc'] > 10 else 0\n",
        "\n",
        "        return features\n",
        "\n",
        "    except ValueError as e:\n",
        "        print(f'Invalid input: {e}. Please enter valid numerical values.')\n",
        "        return None\n",
        "\n",
        "def predict_creditworthiness(new_data, mean, std, model, model_type):\n",
        "    if isinstance(new_data, dict):\n",
        "        new_data = pd.DataFrame([new_data])\n",
        "\n",
        "    required_columns = ['age', 'ed', 'employ', 'address', 'income', 'debtinc', 'creddebt',\n",
        "                       'othdebt', 'debt_income_interaction', 'high_debt_ratio']\n",
        "    if not all(col in new_data.columns for col in required_columns):\n",
        "        missing_cols = [col for col in required_columns if col not in new_data.columns]\n",
        "        raise ValueError(f'Missing columns in new_data: {missing_cols}')\n",
        "\n",
        "    X_new = new_data[required_columns].values\n",
        "    X_new_scaled = (X_new - mean) / std\n",
        "\n",
        "    if model_type == 'Logistic Regression':\n",
        "        weights, bias = model\n",
        "        prediction = logistic_regression_predict(X_new_scaled, weights, bias)\n",
        "    elif model_type == 'Decision Tree':\n",
        "        prediction = decision_tree_predict(X_new_scaled, model)\n",
        "    else:  # Random Forest\n",
        "        prediction = random_forest_predict(X_new_scaled, model)\n",
        "\n",
        "    return 'Good (No default)' if prediction[0] == 0 else 'Poor (Default)'\n",
        "\n",
        "# Interactive prediction loop\n",
        "print(f'\\nUsing Best Model: {best_model_name} with params {best_params}')\n",
        "while True:\n",
        "    user_features = get_user_input()\n",
        "    if user_features is None:\n",
        "        retry = input('Would you like to try again? (yes/no): ').lower()\n",
        "        if retry != 'yes':\n",
        "            break\n",
        "        continue\n",
        "\n",
        "    try:\n",
        "        predicted_class = predict_creditworthiness(user_features, mean, std, best_model, best_model_name)\n",
        "        print(f'\\nPredicted Creditworthiness: {predicted_class}')\n",
        "    except Exception as e:\n",
        "        print(f'Error during prediction: {e}')\n",
        "\n",
        "    retry = input('Would you like to predict for another individual? (yes/no): ').lower()\n",
        "    if retry != 'yes':\n",
        "        break"
      ],
      "metadata": {
        "colab": {
          "base_uri": "https://localhost:8080/"
        },
        "id": "X7QfXD7m_14C",
        "outputId": "05050da0-193d-4c2a-8509-65350ff0e26b"
      },
      "execution_count": 26,
      "outputs": [
        {
          "name": "stdout",
          "output_type": "stream",
          "text": [
            "\n",
            "Using Best Model: Logistic Regression with params (0.01, 1000)\n",
            "\n",
            "Enter the following feature values for creditworthiness prediction:\n",
            "Age (e.g., 20-60): 23\n",
            "Education level (1=High School, 2=Some College, 3=College, 4=Master’s, 5=PhD): 4\n",
            "Years employed (e.g., 0-30): 26\n",
            "Years at current address (e.g., 0-30): 25\n",
            "Annual income in thousands (e.g., 10-500): 426\n",
            "Debt-to-income ratio (e.g., 0.1-50): 42\n",
            "Credit debt in thousands (e.g., 0-20): 16\n",
            "Other debt in thousands (e.g., 0-20): 12\n",
            "\n",
            "Predicted Creditworthiness: Poor (Default)\n",
            "Would you like to predict for another individual? (yes/no): yes\n",
            "\n",
            "Enter the following feature values for creditworthiness prediction:\n",
            "Age (e.g., 20-60): 56\n",
            "Education level (1=High School, 2=Some College, 3=College, 4=Master’s, 5=PhD): 1\n",
            "Years employed (e.g., 0-30): 23\n",
            "Years at current address (e.g., 0-30): 12\n",
            "Annual income in thousands (e.g., 10-500): 223\n",
            "Debt-to-income ratio (e.g., 0.1-50): 23\n",
            "Credit debt in thousands (e.g., 0-20): 1\n",
            "Other debt in thousands (e.g., 0-20): 12\n",
            "\n",
            "Predicted Creditworthiness: Good (No default)\n",
            "Would you like to predict for another individual? (yes/no): no\n"
          ]
        }
      ]
    }
  ]
}